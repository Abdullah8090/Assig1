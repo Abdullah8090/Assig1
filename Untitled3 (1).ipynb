{
 "cells": [
  {
   "cell_type": "code",
   "execution_count": 16,
   "id": "dfa9a9b0-c0ec-40e3-8c88-095fdd3c0f4f",
   "metadata": {
    "tags": []
   },
   "outputs": [
    {
     "name": "stdout",
     "output_type": "stream",
     "text": [
      "The Gravitational Force is:  1.9920979817708333e+20\n"
     ]
    }
   ],
   "source": [
    "# find Gravitational Force\n",
    "def force(M, m, r):\n",
    "    F = (G*M*m)/(r**2)\n",
    "    \n",
    "    return round(F, 2) \n",
    "  \n",
    "G = 6.67*(10**-11)\n",
    "M = 6.0*10**24\n",
    "m = 7.34*10**22\n",
    "r = 3.84*10**8\n",
    "print(\"The Gravitational Force is: \", force(M, m, r))"
   ]
  }
 ],
 "metadata": {
  "kernelspec": {
   "display_name": "Python 3 (ipykernel)",
   "language": "python",
   "name": "python3"
  },
  "language_info": {
   "codemirror_mode": {
    "name": "ipython",
    "version": 3
   },
   "file_extension": ".py",
   "mimetype": "text/x-python",
   "name": "python",
   "nbconvert_exporter": "python",
   "pygments_lexer": "ipython3",
   "version": "3.11.5"
  }
 },
 "nbformat": 4,
 "nbformat_minor": 5
}
